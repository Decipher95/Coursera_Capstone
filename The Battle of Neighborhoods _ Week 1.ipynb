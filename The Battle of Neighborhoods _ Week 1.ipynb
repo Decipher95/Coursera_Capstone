{
 "cells": [
  {
   "cell_type": "markdown",
   "metadata": {
    "collapsed": true
   },
   "source": [
    "# ROCK BAND : USA TOUR 2020"
   ]
  },
  {
   "cell_type": "markdown",
   "metadata": {},
   "source": [
    "# Introduction / Business Problem"
   ]
  },
  {
   "cell_type": "markdown",
   "metadata": {},
   "source": [
    "Time has finally come ! After years of hard work and persistence, your manager has agreed to organize a USA Tour for your music band, which is a faboulous opportunity to increase your visibility and consolidate your fanbase accross the country.\n",
    "\n",
    "__One show in each state of the USA__\n",
    "\n",
    "The Organization looks pretty simple, for every state your manager needs need to : \n",
    "    1. Find the venue to play at.\n",
    "    2. Find a hotel where to sleep after the show, preferably not to far away from the venue.\n",
    "    \n",
    "But unfortunately your manager's been sick for the last couple of months so he can't organize the event. That's why he entrusted you, the drummer of the band (who happens to be also a data-scientist), to do the job on his behalf. Another problem is, you don't have access to your manager's contact book and it really bumms you to do all the manual research yourself on google. \n",
    "Furthermore, you need to be specially careful by choosing the venues. If you pick a trending venue, there might be more people present at your shows. And oppositly, if you pick a non-trending venue, there might be no one there to see you play !\n",
    "\n",
    "And on top of that, the order of shows is significantly important : minimize the journey time between shows. You start your USA Tour in __New York City__, but you'd like to finish it nearby (not finishing in Los Angeles for example, because you'll have to cross the entire country to get home). *In other words, try to optimize your trip in order to reduce travel times and distances.*\n",
    "\n",
    "So where do you start looking at?\n",
    "\n",
    "__Why not automate the process with data?__\n",
    "\n",
    "__Can Data Science help us organize our USA tour but also maximize our visibility and optimize our travel time ?__\n",
    "\n",
    "\n",
    "\n",
    "\n",
    "\n",
    "\n",
    "\n",
    "\n",
    "\n"
   ]
  },
  {
   "cell_type": "markdown",
   "metadata": {},
   "source": [
    "# Using Data / Foursquare API"
   ]
  },
  {
   "cell_type": "markdown",
   "metadata": {},
   "source": [
    "The final report should take the aspect of a spreadsheet, where each rows represents a show you'll be playing and further information like : \n",
    "\n",
    "    - The Adress of The Venue\n",
    "    - The Adress of the Hotel\n",
    "\n",
    "As said before, the order of the spreadsheet will have a significant role on to how you organize your Tour. (Row 1 is show number 1, row 2 is show number 2, etc ..)\n",
    "\n",
    "\n",
    "Using Data and Foursquare API, the process of organizing this USA Tour will follow these few steps : \n",
    "\n",
    "    Step 1 : Gather location data on every state of the USA and their Capital City (or largest city ) \n",
    "    Step 2 : Pick the best concert venue in each city by comparing their ratings/likes...\n",
    "    Step 3 : Pick each time a hotel in a radius of 4-5 km around the concert venue, also compare the ratings/like/price ... \n",
    "    Step 4 : Once each city has been picked, organize the trip in order to minimize travel distances.\n",
    "    Step 5 : Visualize your trip on a map\n",
    "    "
   ]
  },
  {
   "cell_type": "code",
   "execution_count": null,
   "metadata": {},
   "outputs": [],
   "source": []
  }
 ],
 "metadata": {
  "kernelspec": {
   "display_name": "Python 3.6",
   "language": "python",
   "name": "python3"
  },
  "language_info": {
   "codemirror_mode": {
    "name": "ipython",
    "version": 3
   },
   "file_extension": ".py",
   "mimetype": "text/x-python",
   "name": "python",
   "nbconvert_exporter": "python",
   "pygments_lexer": "ipython3",
   "version": "3.6.8"
  }
 },
 "nbformat": 4,
 "nbformat_minor": 1
}
